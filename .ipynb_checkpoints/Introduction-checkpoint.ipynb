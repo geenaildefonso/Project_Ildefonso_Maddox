{
 "cells": [
  {
   "cell_type": "markdown",
   "metadata": {},
   "source": [
    "# Introduction"
   ]
  },
  {
   "cell_type": "markdown",
   "metadata": {},
   "source": [
    "## Overview of Problem"
   ]
  },
  {
   "cell_type": "markdown",
   "metadata": {},
   "source": [
    "We have received Vanderbilt hospital data extracted from the Synthetic Derivative. At Vanderbilt, bioinformaticians helped to create a \"mirror image\" of electronic medical records such as those in BioVU, Vanderbilt's biorepository of DNA extracted from discarded blood collected during routine clinical testing. This mirror of the EMR is called the Synthetic Derivative, and it contains over 2 million individual patients with all clinical information available for the past 10 years. It has been scrubbed of HIPAA identifiers with an eror rate of ~0.01%, meaning that the data has been deidentified with a subject ID. \n",
    "\n",
    "For this project, we have received a subset of data on 10,000 subjects, linked with a deidentified subject ID. The objective of this project is to employ modeling tools introduced in class to fit prediction models for patient readmission within 30 days of discharge using given data. The data includes multiple variables, detailed below in \"Data.\" Ideally, our model will be able to well predict readmission within 30 days of discharge for a patient using the admit/discharge/transfer events data. The rest of the data detials information about the patients themselves, tests and treatments they underwent at Vanderbilt, and lab results and medication. Using these variables, we hope to accurately predict readmission. This information could be very useful for actually clinicians hoping to predict which patients may need to be readmitted, and which characteristics/tests cause them to be readmitted. Once this is determined, that subset of patients could be given more attention and/or tests to prevent readmission."
   ]
  },
  {
   "cell_type": "markdown",
   "metadata": {},
   "source": [
    "## Goal and Structure of Project"
   ]
  },
  {
   "cell_type": "markdown",
   "metadata": {},
   "source": [
    "This project will introduce several approaches to predictive modeling of patient readmission within 30 days of discharge. Three approaches are detailed in the following jupyter notebooks, each of which may include more than one modeling type, attempts to improve each model and test performance, and tuning of the models to increase the goodness of fit. Cross-validation will be used when appropriate, and model selection methods and/or explanations of the models chosen will be provided for each notebook. We will then justify and describe each model selection, and provide visualizations and discussions of the results. The models will be compared using goodness of fit tests and other performance characteristics. For clarification, the steps for each model notebook are listed below, and enumerated in the following 3 modeling notebooks. \n",
    "\n",
    "1. Identify the model approach(es), describe, and justify the selection\n",
    "2. Code, parameterize, and run model (including visualization)\n",
    "3. Cross-validation\n",
    "4. Goodness of fit assessments, performance characteristics (including visualization)\n",
    "5. Improvements to model/tuning of parameters; model selection methods, justification of improvements/tests\n",
    "6. Comparison of models; identification of best model\n",
    "7. Results \n",
    "8. Implications of model and conclusions\n",
    "\n",
    "We have also included a conclusions notebook that details the comparisons of the 3 model types, which ones worked and didn't work, our best model, and future directions."
   ]
  },
  {
   "cell_type": "markdown",
   "metadata": {},
   "source": [
    "## Data and cleaning"
   ]
  },
  {
   "attachments": {},
   "cell_type": "markdown",
   "metadata": {},
   "source": [
    "Phenotype: Patient attributes, including sex, race, and dates of birth and death.\n",
    "Includes the variables: \n",
    "1. \"Sex\" (F or M) \n",
    "2. \"DOB\" (date of birth)\n",
    "3. \"DOD\" (date of death)\n",
    "4. \"Race\" (W = white, B = black, A = Asian, N = Native American, H = hispanic, U = unidentified). \n",
    "\n",
    "Cleaning of the Phenotype dataset:"
   ]
  },
  {
   "cell_type": "markdown",
   "metadata": {},
   "source": [
    "BMI: Body mass index measurement information.\n",
    "Includes the variables:\n",
    "1. \"BMI\" (numeric)\n",
    "2. Date_BMI (date M/DD/YY)\n",
    "3. BMI_Weight (numeric, in kg)\n",
    "4. BMI_Height (numeric, in cm)\n",
    "5. Pregnancy_Indicator (0, 1).\n",
    "\n",
    "Cleaning of the BMI dataset:"
   ]
  },
  {
   "attachments": {},
   "cell_type": "markdown",
   "metadata": {},
   "source": [
    "MED: Medications information, including dose and duration.\n",
    "Includes the variables:\n",
    "1. \"Entry_Date\" (date M/DD/YY)\t\n",
    "2. \"Drug_Name\" (common drug name, string)\t\n",
    "3. \"DRUG_FORM\" (if drug comes in multiple forms, this describes which form is given. E.g. nebulizer versus inhaler for albuterol)\t\n",
    "4. \"DRUG_STRENGTH\" (mL, or NA)\n",
    "5. \"Route\" (Route of drug administration; e.g. IV, FLUSH, PO)\n",
    "6. \"Dose_Amt\" (Amount of drug, variable units; g, ML/HR, units)\n",
    "7. \"Drug_Freq\" (number of times given/how the drug is given; e.g. twice daily, once, Q1H PRN)\n",
    "8. \"Duration\" (length of time drug is given; e.g. months, days, etc)"
   ]
  },
  {
   "cell_type": "code",
   "execution_count": null,
   "metadata": {},
   "outputs": [],
   "source": []
  }
 ],
 "metadata": {
  "kernelspec": {
   "display_name": "Python 3",
   "language": "python",
   "name": "python3"
  },
  "language_info": {
   "codemirror_mode": {
    "name": "ipython",
    "version": 3
   },
   "file_extension": ".py",
   "mimetype": "text/x-python",
   "name": "python",
   "nbconvert_exporter": "python",
   "pygments_lexer": "ipython3",
   "version": "3.6.3"
  }
 },
 "nbformat": 4,
 "nbformat_minor": 2
}
