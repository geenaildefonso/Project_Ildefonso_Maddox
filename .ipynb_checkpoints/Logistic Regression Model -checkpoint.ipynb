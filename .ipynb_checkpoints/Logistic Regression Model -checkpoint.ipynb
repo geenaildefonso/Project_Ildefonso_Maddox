{
 "cells": [
  {
   "cell_type": "markdown",
   "metadata": {},
   "source": [
    "## 1. Identify the model approach(es), describe, and justify the selection"
   ]
  },
  {
   "cell_type": "markdown",
   "metadata": {},
   "source": [
    "Logistic regression is a statistical method for analyzing a dataset in which there are one or more independent variables that determine an outcome. The outcome is measured where there are only two possible outcomes. For our patient data readmission predictions, this type of model is suited very well here. Being able to predict whether the patient will be readmitted within 30 days into the Vanderbilt Hospital, will be a True or False value and this approach will be able to predict which class the predicted outcome will fit into. "
   ]
  },
  {
   "cell_type": "markdown",
   "metadata": {},
   "source": [
    "## 2. Code, parameterize, and run model"
   ]
  },
  {
   "cell_type": "markdown",
   "metadata": {},
   "source": [
    "In this portion of the code is training the model. This is where the Logistic Regression model is tested, and optimized using the exisitng data from the Vanderbilt patient data. We read in the data, as you can see the print out of the first few rows of all the data, then create our X which will be a copy of the imported data, as well as y which will be the column in the y data for each patient if they were readmitted (True, or False) within 30 days of admission date. \n",
    "\n",
    "We first chose to use the default Logistic Regression attributes including a C value equal to 1, and no penalties on regularization. "
   ]
  },
  {
   "cell_type": "code",
   "execution_count": 7,
   "metadata": {},
   "outputs": [],
   "source": [
    "%matplotlib inline\n",
    "import numpy as np\n",
    "import scipy as sp\n",
    "import pandas as pd \n",
    "import pymc3 as pm\n",
    "import seaborn as sns\n",
    "import theano\n",
    "import theano.tensor as tt\n",
    "import matplotlib.pylab as plt\n",
    "import matplotlib.cm as cmap\n",
    "sns.set_context('talk')\n",
    "import seaborn as sns; sns.set_context('notebook')\n",
    "import numpy as np\n",
    "import matplotlib.pyplot as plt\n",
    "import pandas as pd\n",
    "from sklearn.svm import SVC\n",
    "from sklearn import svm\n",
    "from sklearn import preprocessing\n",
    "from sklearn.linear_model import LogisticRegression\n",
    "from sklearn.metrics import brier_score_loss, make_scorer\n",
    "from sklearn import model_selection\n",
    "np.random.seed(1)"
   ]
  },
  {
   "cell_type": "code",
   "execution_count": 8,
   "metadata": {},
   "outputs": [],
   "source": [
    "data_path = \"/Users/geenaildefonso/PData/\""
   ]
  },
  {
   "cell_type": "code",
   "execution_count": 38,
   "metadata": {},
   "outputs": [
    {
     "data": {
      "text/html": [
       "<div>\n",
       "<style>\n",
       "    .dataframe thead tr:only-child th {\n",
       "        text-align: right;\n",
       "    }\n",
       "\n",
       "    .dataframe thead th {\n",
       "        text-align: left;\n",
       "    }\n",
       "\n",
       "    .dataframe tbody tr th {\n",
       "        vertical-align: top;\n",
       "    }\n",
       "</style>\n",
       "<table border=\"1\" class=\"dataframe\">\n",
       "  <thead>\n",
       "    <tr style=\"text-align: right;\">\n",
       "      <th></th>\n",
       "      <th>bmi_mean</th>\n",
       "      <th>bmi_std</th>\n",
       "      <th>pd_mean</th>\n",
       "      <th>pd_std</th>\n",
       "      <th>ps_mean</th>\n",
       "      <th>ps_std</th>\n",
       "      <th>egfr_mean</th>\n",
       "      <th>egfr_std</th>\n",
       "      <th>U</th>\n",
       "      <th>A</th>\n",
       "      <th>B</th>\n",
       "      <th>H</th>\n",
       "      <th>I</th>\n",
       "      <th>N</th>\n",
       "      <th>W</th>\n",
       "      <th>sex_x</th>\n",
       "    </tr>\n",
       "    <tr>\n",
       "      <th>patient_id</th>\n",
       "      <th></th>\n",
       "      <th></th>\n",
       "      <th></th>\n",
       "      <th></th>\n",
       "      <th></th>\n",
       "      <th></th>\n",
       "      <th></th>\n",
       "      <th></th>\n",
       "      <th></th>\n",
       "      <th></th>\n",
       "      <th></th>\n",
       "      <th></th>\n",
       "      <th></th>\n",
       "      <th></th>\n",
       "      <th></th>\n",
       "      <th></th>\n",
       "    </tr>\n",
       "  </thead>\n",
       "  <tbody>\n",
       "    <tr>\n",
       "      <th>50135262</th>\n",
       "      <td>0.232986</td>\n",
       "      <td>0.023394</td>\n",
       "      <td>0.343691</td>\n",
       "      <td>0.072827</td>\n",
       "      <td>0.757036</td>\n",
       "      <td>0.109282</td>\n",
       "      <td>0.468378</td>\n",
       "      <td>0.131599</td>\n",
       "      <td>0.0</td>\n",
       "      <td>0.0</td>\n",
       "      <td>0.0</td>\n",
       "      <td>0.0</td>\n",
       "      <td>0.0</td>\n",
       "      <td>0.0</td>\n",
       "      <td>1.0</td>\n",
       "      <td>0.0</td>\n",
       "    </tr>\n",
       "    <tr>\n",
       "      <th>50135361</th>\n",
       "      <td>0.255530</td>\n",
       "      <td>0.358638</td>\n",
       "      <td>0.381523</td>\n",
       "      <td>0.080783</td>\n",
       "      <td>0.718633</td>\n",
       "      <td>0.119113</td>\n",
       "      <td>0.330582</td>\n",
       "      <td>0.118710</td>\n",
       "      <td>0.0</td>\n",
       "      <td>0.0</td>\n",
       "      <td>0.0</td>\n",
       "      <td>0.0</td>\n",
       "      <td>0.0</td>\n",
       "      <td>0.0</td>\n",
       "      <td>1.0</td>\n",
       "      <td>1.0</td>\n",
       "    </tr>\n",
       "    <tr>\n",
       "      <th>50135369</th>\n",
       "      <td>0.174707</td>\n",
       "      <td>0.158271</td>\n",
       "      <td>0.420444</td>\n",
       "      <td>0.071984</td>\n",
       "      <td>0.695987</td>\n",
       "      <td>0.105619</td>\n",
       "      <td>0.508748</td>\n",
       "      <td>0.089971</td>\n",
       "      <td>0.0</td>\n",
       "      <td>0.0</td>\n",
       "      <td>0.0</td>\n",
       "      <td>0.0</td>\n",
       "      <td>0.0</td>\n",
       "      <td>0.0</td>\n",
       "      <td>1.0</td>\n",
       "      <td>1.0</td>\n",
       "    </tr>\n",
       "    <tr>\n",
       "      <th>50135375</th>\n",
       "      <td>0.182953</td>\n",
       "      <td>0.014560</td>\n",
       "      <td>0.461639</td>\n",
       "      <td>0.085380</td>\n",
       "      <td>0.805206</td>\n",
       "      <td>0.144622</td>\n",
       "      <td>0.242454</td>\n",
       "      <td>0.133643</td>\n",
       "      <td>0.0</td>\n",
       "      <td>0.0</td>\n",
       "      <td>1.0</td>\n",
       "      <td>0.0</td>\n",
       "      <td>0.0</td>\n",
       "      <td>0.0</td>\n",
       "      <td>0.0</td>\n",
       "      <td>1.0</td>\n",
       "    </tr>\n",
       "    <tr>\n",
       "      <th>50135425</th>\n",
       "      <td>0.219884</td>\n",
       "      <td>0.033389</td>\n",
       "      <td>0.370948</td>\n",
       "      <td>0.060777</td>\n",
       "      <td>0.836701</td>\n",
       "      <td>0.107461</td>\n",
       "      <td>0.230223</td>\n",
       "      <td>0.211236</td>\n",
       "      <td>0.0</td>\n",
       "      <td>0.0</td>\n",
       "      <td>0.0</td>\n",
       "      <td>0.0</td>\n",
       "      <td>0.0</td>\n",
       "      <td>0.0</td>\n",
       "      <td>1.0</td>\n",
       "      <td>0.0</td>\n",
       "    </tr>\n",
       "  </tbody>\n",
       "</table>\n",
       "</div>"
      ],
      "text/plain": [
       "            bmi_mean   bmi_std   pd_mean    pd_std   ps_mean    ps_std  \\\n",
       "patient_id                                                               \n",
       "50135262    0.232986  0.023394  0.343691  0.072827  0.757036  0.109282   \n",
       "50135361    0.255530  0.358638  0.381523  0.080783  0.718633  0.119113   \n",
       "50135369    0.174707  0.158271  0.420444  0.071984  0.695987  0.105619   \n",
       "50135375    0.182953  0.014560  0.461639  0.085380  0.805206  0.144622   \n",
       "50135425    0.219884  0.033389  0.370948  0.060777  0.836701  0.107461   \n",
       "\n",
       "            egfr_mean  egfr_std    U    A    B    H    I    N    W  sex_x  \n",
       "patient_id                                                                 \n",
       "50135262     0.468378  0.131599  0.0  0.0  0.0  0.0  0.0  0.0  1.0    0.0  \n",
       "50135361     0.330582  0.118710  0.0  0.0  0.0  0.0  0.0  0.0  1.0    1.0  \n",
       "50135369     0.508748  0.089971  0.0  0.0  0.0  0.0  0.0  0.0  1.0    1.0  \n",
       "50135375     0.242454  0.133643  0.0  0.0  1.0  0.0  0.0  0.0  0.0    1.0  \n",
       "50135425     0.230223  0.211236  0.0  0.0  0.0  0.0  0.0  0.0  1.0    0.0  "
      ]
     },
     "execution_count": 38,
     "metadata": {},
     "output_type": "execute_result"
    }
   ],
   "source": [
    "x_data = pd.read_csv(data_path + 'x_data_final.csv', index_col= 'patient_id')\n",
    "# x_data.head()\n",
    "del x_data['Unnamed: 0']\n",
    "attributes = ['bmi_mean',\n",
    "            'bmi_std',\n",
    "            'pd_mean',\n",
    "            'pd_std',\n",
    "            'ps_mean',\n",
    "            'ps_std',\n",
    "            'egr_mean',\n",
    "            'egfr_std','U', 'A', 'B', 'H', 'I', 'N', 'W', 'sex_x']\n",
    "x_data = x_data[['bmi_mean', 'bmi_std','pd_mean', 'pd_std', 'ps_mean', 'ps_std',\n",
    "                  'egfr_mean', 'egfr_std', 'U', 'A', 'B', 'H', 'I', 'N', 'W', 'sex_x']]\n",
    "x_data.head()"
   ]
  },
  {
   "cell_type": "code",
   "execution_count": 39,
   "metadata": {},
   "outputs": [],
   "source": [
    "y_data = pd.read_csv(data_path + 'y_data.csv', index_col=0)"
   ]
  },
  {
   "cell_type": "code",
   "execution_count": 40,
   "metadata": {},
   "outputs": [],
   "source": [
    "X = x_data.copy()\n",
    "y = y_data.pop('readmitted_true')"
   ]
  },
  {
   "cell_type": "code",
   "execution_count": 41,
   "metadata": {},
   "outputs": [],
   "source": [
    "X_train, X_test, y_train, y_test = model_selection.train_test_split(\n",
    "        x_data.values, y, test_size=0.4, random_state=0)"
   ]
  },
  {
   "cell_type": "code",
   "execution_count": 52,
   "metadata": {},
   "outputs": [
    {
     "data": {
      "text/plain": [
       "LogisticRegression(C=1.0, class_weight=None, dual=False, fit_intercept=True,\n",
       "          intercept_scaling=1, max_iter=100, multi_class='ovr', n_jobs=1,\n",
       "          penalty='l2', random_state=None, solver='liblinear', tol=0.0001,\n",
       "          verbose=0, warm_start=False)"
      ]
     },
     "execution_count": 52,
     "metadata": {},
     "output_type": "execute_result"
    }
   ],
   "source": [
    "log = LogisticRegression()\n",
    "log.fit(X,y)\n",
    "# log.fit(X_train, y_train)\n",
    "# log.score(X_test, y_test)"
   ]
  },
  {
   "cell_type": "code",
   "execution_count": 16,
   "metadata": {},
   "outputs": [
    {
     "data": {
      "text/plain": [
       "array([ 0.73266708,  0.71392879,  0.7225    ,  0.72732958,  0.73733583])"
      ]
     },
     "execution_count": 16,
     "metadata": {},
     "output_type": "execute_result"
    }
   ],
   "source": [
    "scores_log = model_selection.cross_val_score(log, x_data.values, y, cv=5)\n",
    "scores_log"
   ]
  },
  {
   "cell_type": "code",
   "execution_count": 17,
   "metadata": {},
   "outputs": [
    {
     "name": "stdout",
     "output_type": "stream",
     "text": [
      "Accuracy: 0.73 (+/- 0.02)\n"
     ]
    }
   ],
   "source": [
    "print(\"Accuracy: %0.2f (+/- %0.2f)\" % (scores_log.mean(), scores_log.std() * 2))"
   ]
  },
  {
   "cell_type": "code",
   "execution_count": 53,
   "metadata": {},
   "outputs": [],
   "source": [
    "from matplotlib.colors import ListedColormap\n",
    "# Create color maps for 3-class classification problem, as with iris\n",
    "cmap_light = ListedColormap(['#FFAAAA', '#AAFFAA'])\n",
    "cmap_bold = ListedColormap(['#FF0000', '#00FF00'])\n",
    "\n",
    "def plot_estimator(estimator, X, y, ax=None):\n",
    "    \n",
    "    try:\n",
    "        X, y = X.values, y.values\n",
    "    except AttributeError:\n",
    "        pass\n",
    "    \n",
    "    if ax is None:\n",
    "        _, ax = plt.subplots()\n",
    "    \n",
    "    estimator.fit(X, y)\n",
    "    x_min, x_max = X[:, 0].min() - .1, X[:, 0].max() + .1\n",
    "    y_min, y_max = X[:, 1].min() - .1, X[:, 1].max() + .1\n",
    "    xx, yy = np.meshgrid(np.linspace(x_min, x_max, 100),\n",
    "                         np.linspace(y_min, y_max, 100))\n",
    "    Z = estimator.predict(np.c_[xx.ravel(), yy.ravel()])\n",
    "\n",
    "    # Put the result into a color plot\n",
    "    Z = Z.reshape(xx.shape)\n",
    "    ax.pcolormesh(xx, yy, Z, cmap=cmap_light)\n",
    "\n",
    "    # Plot also the training points\n",
    "    ax.scatter(X[:, 0], X[:, 1], c=y, cmap=cmap_bold)\n",
    "    ax.axis('tight')\n",
    "    ax.axis('off')\n",
    "    plt.tight_layout()"
   ]
  },
  {
   "cell_type": "code",
   "execution_count": 55,
   "metadata": {},
   "outputs": [
    {
     "data": {
      "image/png": "[encoded data removed]",
      "text/plain": [
       "<matplotlib.figure.Figure at 0x11b97e320>"
      ]
     },
     "metadata": {},
     "output_type": "display_data"
    }
   ],
   "source": [
    "%matplotlib inline\n",
    "plot_estimator(log, X[['ps_std', 'egfr_std']], y)"
   ]
  },
  {
   "cell_type": "markdown",
   "metadata": {},
   "source": [
    "## 3. Cross-validation"
   ]
  },
  {
   "cell_type": "markdown",
   "metadata": {},
   "source": [
    "The `LogisticRegression` class from `scikit-learn` provides facilities for regularization using either L2 (resulting in ridge regression) or L1 (resulting in LASSO regression) penalties. The degree of regularization in either case is controlled by the C parameter, whereby large values of C give more freedom to the model, while smaller values of C constrain the model more. We used a selection of low and high values of C as well as \n",
    "\n",
    "can use a selection of C values to obtain a range of predictions from variants of the same model. For example:\n",
    "\n",
    "For this cross-validation in the Logistic Regression approach, we tested out different values of C as well in combination with different penalties of `l1` and `l2` to see the changes in accuracy. My results for all cross_validation ranged between 71% and 72%. "
   ]
  },
  {
   "cell_type": "code",
   "execution_count": 51,
   "metadata": {},
   "outputs": [
    {
     "data": {
      "text/plain": [
       "0.71218749999999997"
      ]
     },
     "execution_count": 51,
     "metadata": {},
     "output_type": "execute_result"
    }
   ],
   "source": [
    "log1 = LogisticRegression(C=0.4)\n",
    "log1.fit(X_train, y_train)\n",
    "log1.score(X_test, y_test)"
   ]
  },
  {
   "cell_type": "code",
   "execution_count": 19,
   "metadata": {},
   "outputs": [
    {
     "data": {
      "text/plain": [
       "0.72968750000000004"
      ]
     },
     "execution_count": 19,
     "metadata": {},
     "output_type": "execute_result"
    }
   ],
   "source": [
    "log2 = LogisticRegression(C=10)\n",
    "log2.fit(X_train, y_train)\n",
    "log2.score(X_test, y_test)"
   ]
  },
  {
   "cell_type": "code",
   "execution_count": 20,
   "metadata": {},
   "outputs": [
    {
     "data": {
      "text/plain": [
       "0.72499999999999998"
      ]
     },
     "execution_count": 20,
     "metadata": {},
     "output_type": "execute_result"
    }
   ],
   "source": [
    "log3 = LogisticRegression(C=0.4, penalty='l1')\n",
    "log3.fit(X_train, y_train)\n",
    "log3.score(X_test, y_test)"
   ]
  },
  {
   "cell_type": "code",
   "execution_count": 21,
   "metadata": {},
   "outputs": [
    {
     "data": {
      "text/plain": [
       "0.72781249999999997"
      ]
     },
     "execution_count": 21,
     "metadata": {},
     "output_type": "execute_result"
    }
   ],
   "source": [
    "log4 = LogisticRegression(C=10, penalty='l1')\n",
    "log4.fit(X_train, y_train)\n",
    "log4.score(X_test, y_test)"
   ]
  },
  {
   "cell_type": "code",
   "execution_count": 22,
   "metadata": {},
   "outputs": [
    {
     "data": {
      "text/plain": [
       "0.71218749999999997"
      ]
     },
     "execution_count": 22,
     "metadata": {},
     "output_type": "execute_result"
    }
   ],
   "source": [
    "log5 = LogisticRegression(C=0.4, penalty='l2')\n",
    "log5.fit(X_train, y_train)\n",
    "log5.score(X_test, y_test)"
   ]
  },
  {
   "cell_type": "code",
   "execution_count": 23,
   "metadata": {},
   "outputs": [
    {
     "data": {
      "text/plain": [
       "0.72968750000000004"
      ]
     },
     "execution_count": 23,
     "metadata": {},
     "output_type": "execute_result"
    }
   ],
   "source": [
    "log6 = LogisticRegression(C=10, penalty='l2')\n",
    "log6.fit(X_train, y_train)\n",
    "log6.score(X_test, y_test)"
   ]
  },
  {
   "cell_type": "markdown",
   "metadata": {},
   "source": [
    "## 4. Goodness of fit assessments, performance characteristics "
   ]
  },
  {
   "cell_type": "markdown",
   "metadata": {},
   "source": [
    "\n",
    "\n",
    "which seemed very close to pick a specific Logistic Regression that performed best. I noticed lowering the C value did reduce the accuracy percentage, which is valid as the lower value of C restricts the model less. Overall, I would say that the logisitic regression performs quicker with a satisfactory accuracy percentage here."
   ]
  },
  {
   "cell_type": "markdown",
   "metadata": {},
   "source": [
    "## 5. Improvements to model/tuning of parameters; model selection methods, justification of improvements/tests"
   ]
  },
  {
   "cell_type": "markdown",
   "metadata": {},
   "source": []
  },
  {
   "cell_type": "markdown",
   "metadata": {},
   "source": [
    "## 6. Comparison of models; identification of best model"
   ]
  },
  {
   "cell_type": "markdown",
   "metadata": {},
   "source": []
  },
  {
   "cell_type": "markdown",
   "metadata": {},
   "source": [
    "## 7. Results and Implications "
   ]
  },
  {
   "cell_type": "markdown",
   "metadata": {},
   "source": []
  }
 ],
 "metadata": {
  "kernelspec": {
   "display_name": "Python 3",
   "language": "python",
   "name": "python3"
  },
  "language_info": {
   "codemirror_mode": {
    "name": "ipython",
    "version": 3
   },
   "file_extension": ".py",
   "mimetype": "text/x-python",
   "name": "python",
   "nbconvert_exporter": "python",
   "pygments_lexer": "ipython3",
   "version": "3.6.3"
  }
 },
 "nbformat": 4,
 "nbformat_minor": 2
}
