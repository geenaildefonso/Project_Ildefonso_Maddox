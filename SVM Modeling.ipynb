{
 "cells": [
  {
   "cell_type": "markdown",
   "metadata": {},
   "source": [
    "# Support Vector Machine Modeling"
   ]
  },
  {
   "cell_type": "markdown",
   "metadata": {},
   "source": [
    "1. Identify the model approach(es), describe, and justify the selection\n",
    "2. Code, parameterize, and run model (including visualization)\n",
    "3. Cross-validation\n",
    "4. Goodness of fit assessments, performance characteristics (including visualization)\n",
    "5. Improvements to model/tuning of parameters; model selection methods, justification of improvements/tests\n",
    "6. Comparison of models; identification of best model\n",
    "7. Results\n",
    "8. Implications of model and conclusions"
   ]
  },
  {
   "cell_type": "code",
   "execution_count": null,
   "metadata": {},
   "outputs": [],
   "source": []
  }
 ],
 "metadata": {
  "kernelspec": {
   "display_name": "Python 3",
   "language": "python",
   "name": "python3"
  },
  "language_info": {
   "codemirror_mode": {
    "name": "ipython",
    "version": 3
   },
   "file_extension": ".py",
   "mimetype": "text/x-python",
   "name": "python",
   "nbconvert_exporter": "python",
   "pygments_lexer": "ipython3",
   "version": "3.6.3"
  }
 },
 "nbformat": 4,
 "nbformat_minor": 2
}
